{
  "nbformat": 4,
  "nbformat_minor": 0,
  "metadata": {
    "colab": {
      "provenance": []
    },
    "kernelspec": {
      "name": "python3",
      "display_name": "Python 3"
    },
    "language_info": {
      "name": "python"
    }
  },
  "cells": [
    {
      "cell_type": "code",
      "source": [
        "while True:\n",
        "    palavra = input('Digite uma palavra: \\n')\n",
        "    if palavra == 'sair':\n",
        "       break\n",
        "print('Voce escolheu sair')\n",
        "\n",
        "\n",
        "\n"
      ],
      "metadata": {
        "colab": {
          "base_uri": "https://localhost:8080/"
        },
        "id": "zxwo_EdX4W0R",
        "outputId": "d93d711f-976c-4d5f-acdb-92760d704c6e"
      },
      "execution_count": 4,
      "outputs": [
        {
          "output_type": "stream",
          "name": "stdout",
          "text": [
            "Digite uma palavra: \n",
            "joaozinho\n",
            "Digite uma palavra: \n",
            "joao\n",
            "Digite uma palavra: \n",
            "sair\n",
            "Voce escolheu sair\n"
          ]
        }
      ]
    }
  ]
}